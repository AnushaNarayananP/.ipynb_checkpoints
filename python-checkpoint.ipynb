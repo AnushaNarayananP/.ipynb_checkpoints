{
 "cells": [
  {
   "cell_type": "code",
   "execution_count": 5,
   "id": "919121ec",
   "metadata": {},
   "outputs": [],
   "source": [
    "a=12"
   ]
  },
  {
   "cell_type": "code",
   "execution_count": 2,
   "id": "7780cf63",
   "metadata": {},
   "outputs": [
    {
     "data": {
      "text/plain": [
       "12"
      ]
     },
     "execution_count": 2,
     "metadata": {},
     "output_type": "execute_result"
    }
   ],
   "source": [
    "int(a)"
   ]
  },
  {
   "cell_type": "code",
   "execution_count": 8,
   "id": "e0417948",
   "metadata": {},
   "outputs": [
    {
     "data": {
      "text/plain": [
       "3"
      ]
     },
     "execution_count": 8,
     "metadata": {},
     "output_type": "execute_result"
    }
   ],
   "source": [
    "12>>2"
   ]
  },
  {
   "cell_type": "code",
   "execution_count": 9,
   "id": "9c2468d8",
   "metadata": {},
   "outputs": [],
   "source": [
    "s=12"
   ]
  },
  {
   "cell_type": "code",
   "execution_count": 12,
   "id": "a60b9b86",
   "metadata": {},
   "outputs": [
    {
     "data": {
      "text/plain": [
       "True"
      ]
     },
     "execution_count": 12,
     "metadata": {},
     "output_type": "execute_result"
    }
   ],
   "source": [
    "\"1\" in str(s)"
   ]
  },
  {
   "cell_type": "code",
   "execution_count": 16,
   "id": "288df3b1",
   "metadata": {},
   "outputs": [
    {
     "data": {
      "text/plain": [
       "True"
      ]
     },
     "execution_count": 16,
     "metadata": {},
     "output_type": "execute_result"
    }
   ],
   "source": [
    "'1' ==\"1\""
   ]
  },
  {
   "cell_type": "code",
   "execution_count": 17,
   "id": "282ff39f",
   "metadata": {},
   "outputs": [
    {
     "data": {
      "text/plain": [
       "True"
      ]
     },
     "execution_count": 17,
     "metadata": {},
     "output_type": "execute_result"
    }
   ],
   "source": [
    "s1=\"python\"\n",
    "s2=\"python\"\n",
    "s1 is s2"
   ]
  },
  {
   "cell_type": "code",
   "execution_count": 19,
   "id": "1d7eb1c1",
   "metadata": {},
   "outputs": [],
   "source": [
    "s='pyn'"
   ]
  },
  {
   "cell_type": "code",
   "execution_count": 21,
   "id": "3df94fae",
   "metadata": {},
   "outputs": [],
   "source": [
    "s*=3"
   ]
  },
  {
   "cell_type": "code",
   "execution_count": 22,
   "id": "49ebbf8e",
   "metadata": {},
   "outputs": [
    {
     "data": {
      "text/plain": [
       "'pynpynpyn'"
      ]
     },
     "execution_count": 22,
     "metadata": {},
     "output_type": "execute_result"
    }
   ],
   "source": [
    "s"
   ]
  },
  {
   "cell_type": "code",
   "execution_count": 24,
   "id": "a5cacaae",
   "metadata": {},
   "outputs": [
    {
     "data": {
      "text/plain": [
       "True"
      ]
     },
     "execution_count": 24,
     "metadata": {},
     "output_type": "execute_result"
    }
   ],
   "source": [
    "'npy'in s"
   ]
  },
  {
   "cell_type": "code",
   "execution_count": 25,
   "id": "2121703a",
   "metadata": {},
   "outputs": [],
   "source": [
    "s=\"bbcde\""
   ]
  },
  {
   "cell_type": "code",
   "execution_count": 27,
   "id": "7d4d470c",
   "metadata": {},
   "outputs": [
    {
     "data": {
      "text/plain": [
       "'Bbcde'"
      ]
     },
     "execution_count": 27,
     "metadata": {},
     "output_type": "execute_result"
    }
   ],
   "source": [
    "s.title()"
   ]
  },
  {
   "cell_type": "code",
   "execution_count": 28,
   "id": "72a7e3d5",
   "metadata": {},
   "outputs": [],
   "source": [
    "s=\"python\""
   ]
  },
  {
   "cell_type": "code",
   "execution_count": 36,
   "id": "d506e35b",
   "metadata": {},
   "outputs": [
    {
     "data": {
      "text/plain": [
       "'ppythonp'"
      ]
     },
     "execution_count": 36,
     "metadata": {},
     "output_type": "execute_result"
    }
   ],
   "source": [
    "s.center(8,'p')"
   ]
  },
  {
   "cell_type": "code",
   "execution_count": 33,
   "id": "fe8322d8",
   "metadata": {},
   "outputs": [
    {
     "data": {
      "text/plain": [
       "'python'"
      ]
     },
     "execution_count": 33,
     "metadata": {},
     "output_type": "execute_result"
    }
   ],
   "source": [
    "s"
   ]
  },
  {
   "cell_type": "code",
   "execution_count": null,
   "id": "851c53f8",
   "metadata": {},
   "outputs": [],
   "source": []
  }
 ],
 "metadata": {
  "kernelspec": {
   "display_name": "Python 3 (ipykernel)",
   "language": "python",
   "name": "python3"
  },
  "language_info": {
   "codemirror_mode": {
    "name": "ipython",
    "version": 3
   },
   "file_extension": ".py",
   "mimetype": "text/x-python",
   "name": "python",
   "nbconvert_exporter": "python",
   "pygments_lexer": "ipython3",
   "version": "3.9.12"
  }
 },
 "nbformat": 4,
 "nbformat_minor": 5
}
